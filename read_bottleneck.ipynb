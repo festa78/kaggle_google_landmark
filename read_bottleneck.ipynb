{
 "cells": [
  {
   "cell_type": "code",
   "execution_count": 1,
   "metadata": {},
   "outputs": [],
   "source": [
    "from threading import Thread\n",
    "import os\n",
    "import time\n",
    "\n",
    "import glob\n",
    "import numpy as np\n",
    "import pandas as pd\n",
    "import tqdm"
   ]
  },
  {
   "cell_type": "code",
   "execution_count": 8,
   "metadata": {},
   "outputs": [],
   "source": [
    "BOTTLENECK_DIR = '/home/ubuntu/workspace/s3data/google_landmark/bottleneck'\n",
    "TEST_DIR = '/home/ubuntu/workspace/s3data/google_landmark/bottleneck_test'\n",
    "OUT_DIR = '/home/ubuntu/workspace/s3data/google_landmark/output'\n",
    "#BOTTLENECK_DIR = '/home/ubuntu/workspace/kgg/google_landmark/input/sampledata/bottleneck'\n",
    "#TEST_DIR = '/home/ubuntu/workspace/kgg/google_landmark/input/sampledata/bottleneck'\n",
    "#OUT_DIR = '/home/ubuntu/workspace/kgg/google_landmark/input/sampledata/output'\n",
    "NUM_FEATURES = 2048"
   ]
  },
  {
   "cell_type": "code",
   "execution_count": 9,
   "metadata": {},
   "outputs": [
    {
     "name": "stdout",
     "output_type": "stream",
     "text": [
      "['/home/ubuntu/workspace/kgg/google_landmark/input/sampledata/bottleneck/0000537cfe185887.txt', '/home/ubuntu/workspace/kgg/google_landmark/input/sampledata/bottleneck/00002e4e382333bf.txt', '/home/ubuntu/workspace/kgg/google_landmark/input/sampledata/bottleneck/000089733ddc8a3a.txt']\n",
      "['0000537cfe185887.txt', '00002e4e382333bf.txt', '000089733ddc8a3a.txt']\n"
     ]
    }
   ],
   "source": [
    "# Read image list.\n",
    "bottleneck_list = glob.glob(os.path.join(BOTTLENECK_DIR, '*.txt'))\n",
    "bottleneck_base = [os.path.basename(filename) for filename in bottleneck_list]\n",
    "test_list = glob.glob(os.path.join(TEST_DIR, '*.txt'))\n",
    "test_base = [os.path.basename(filename) for filename in test_list]\n",
    "print(bottleneck_list[:3])\n",
    "print(bottleneck_base[:3])\n"
   ]
  },
  {
   "cell_type": "code",
   "execution_count": 4,
   "metadata": {},
   "outputs": [],
   "source": [
    "#bottleneck = np.zeros((len(bottleneck_list), NUM_FEATURES))\n",
    "#for i, filepath in enumerate(bottleneck_list):\n",
    "#    with open(filepath, 'r') as f:\n",
    "#        line = f.readline()\n",
    "#        bottleneck[i,] = np.array([float(item) for item in line.split(',')])\n",
    "#print(bottleneck.shape)"
   ]
  },
  {
   "cell_type": "code",
   "execution_count": 5,
   "metadata": {},
   "outputs": [],
   "source": [
    "#tests = np.zeros((len(test_list), NUM_FEATURES))\n",
    "#for i, filepath in enumerate(test_list):\n",
    "#    with open(filepath, 'r') as f:\n",
    "#        line = f.readline()\n",
    "#        tests[i,] = np.array([float(item) for item in line.split(',')])\n",
    "#print(tests.shape)"
   ]
  },
  {
   "cell_type": "code",
   "execution_count": 10,
   "metadata": {},
   "outputs": [
    {
     "name": "stderr",
     "output_type": "stream",
     "text": [
      "\n",
      "  0%|          | 0/10 [00:00<?, ?it/s]\u001b[A\n",
      " 10%|█         | 1/10 [00:00<00:02,  3.34it/s]\u001b[A\n",
      " 20%|██        | 2/10 [00:01<00:04,  1.63it/s]\u001b[A\n",
      " 30%|███       | 3/10 [00:01<00:04,  1.54it/s]\u001b[A\n",
      " 40%|████      | 4/10 [00:02<00:03,  1.62it/s]\u001b[A"
     ]
    },
    {
     "name": "stdout",
     "output_type": "stream",
     "text": [
      "test_000000000_000000001.csv\n",
      "test_000000001_000000002.csv\n"
     ]
    },
    {
     "name": "stderr",
     "output_type": "stream",
     "text": [
      "\n",
      " 50%|█████     | 5/10 [00:03<00:03,  1.64it/s]\u001b[A\n",
      " 60%|██████    | 6/10 [00:03<00:02,  1.66it/s]\u001b[A"
     ]
    },
    {
     "name": "stdout",
     "output_type": "stream",
     "text": [
      "test_000000003_000000004.csv\n"
     ]
    },
    {
     "name": "stderr",
     "output_type": "stream",
     "text": [
      "\n",
      " 70%|███████   | 7/10 [00:04<00:01,  1.73it/s]\u001b[A"
     ]
    },
    {
     "name": "stdout",
     "output_type": "stream",
     "text": [
      "test_000000002_000000003.csv\n",
      "test_000000004_000000005.csv\n"
     ]
    },
    {
     "name": "stderr",
     "output_type": "stream",
     "text": [
      "\n",
      " 90%|█████████ | 9/10 [00:05<00:00,  1.73it/s]"
     ]
    },
    {
     "name": "stdout",
     "output_type": "stream",
     "text": [
      "test_000000006_000000007.csv\n",
      "test_000000005_000000006.csv\n"
     ]
    },
    {
     "name": "stderr",
     "output_type": "stream",
     "text": [
      "100%|██████████| 10/10 [00:05<00:00,  1.80it/s]\n"
     ]
    },
    {
     "name": "stdout",
     "output_type": "stream",
     "text": [
      "test_000000007_000000008.csv\n",
      "test_000000008_000000009.csv\n",
      "test_000000009_000000010.csv\n"
     ]
    }
   ],
   "source": [
    "# Compute distance\n",
    "DATASIZE_WORKER = 1\n",
    "THREADS_MAX = 500\n",
    "lt = np.hstack([np.arange(0, len(test_list), DATASIZE_WORKER), len(test_list)])\n",
    "#dist_all = pd.DataFrame(np.zeros([len(test_list),  len(bottleneck_list)]), index=test_base, columns=bottleneck_base)\n",
    "\n",
    "# process per data chunk.\n",
    "def corr_worker(idx_from, idx_to):\n",
    "    dist_worker = pd.DataFrame(np.zeros([idx_to - idx_from, len(bottleneck_list)]),\n",
    "                               index=test_base[idx_from:idx_to],\n",
    "                               columns=bottleneck_base)\n",
    "    for i in range(idx_from, idx_to):\n",
    "        with open(test_list[i], 'r') as f:\n",
    "            line = f.readline()\n",
    "            test_i = np.array([float(item) for item in line.split(',')])\n",
    "        for j, filepath in enumerate(bottleneck_list):\n",
    "            with open(filepath, 'r') as f:\n",
    "                line = f.readline()\n",
    "                bottleneck_j = np.array([float(item) for item in line.split(',')])\n",
    "            #dist_all.iloc[i, j] = np.linalg.norm(test_i - bottleneck_j)\n",
    "            dist_worker.iloc[i - idx_from, j] = np.linalg.norm(test_i - bottleneck_j)\n",
    "    print('test_{:09d}_{:09d}.csv'.format(idx_from, idx_to))\n",
    "    # dist_worker.to_csv(os.path.join(OUT_DIR, 'test_{:09d}_{:09d}.csv'.format(idx_from, idx_to)))\n",
    "    dist_worker.to_csv(os.path.join(OUT_DIR, 'test_{:09d}.csv'.format(idx_from)))\n",
    "\n",
    "t1 = time.time()\n",
    "threads = []\n",
    "for i in tqdm.tqdm(range(len(lt) - 1), total=len(lt) - 1):\n",
    "    thread = Thread(target=corr_worker, args=(lt[i], lt[i + 1]))\n",
    "    thread.start()\n",
    "    threads.append(thread)\n",
    "    if len(threads) > THREADS_MAX:\n",
    "        for thread in threads:\n",
    "            thread.join()\n",
    "        threads = []\n",
    "for thread in threads:\n",
    "    thread.join()\n",
    "\n",
    "t2 = time.time()\n",
    " \n",
    "# print(dist_all)"
   ]
  }
 ],
 "metadata": {
  "kernelspec": {
   "display_name": "Python 3",
   "language": "python",
   "name": "python3"
  },
  "language_info": {
   "codemirror_mode": {
    "name": "ipython",
    "version": 3
   },
   "file_extension": ".py",
   "mimetype": "text/x-python",
   "name": "python",
   "nbconvert_exporter": "python",
   "pygments_lexer": "ipython3",
   "version": "3.6.5"
  }
 },
 "nbformat": 4,
 "nbformat_minor": 2
}
